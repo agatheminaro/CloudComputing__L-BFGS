{
 "cells": [
  {
   "cell_type": "markdown",
   "metadata": {},
   "source": [
    "# L-BFGS and Vector-free L-BFGS demonstration"
   ]
  },
  {
   "cell_type": "code",
   "execution_count": 183,
   "metadata": {},
   "outputs": [],
   "source": [
    "import numpy as np\n",
    "import lbfgs\n",
    "import utils\n",
    "from scipy.optimize import fmin_l_bfgs_b\n",
    "from scipy.optimize import check_grad"
   ]
  },
  {
   "cell_type": "markdown",
   "metadata": {},
   "source": [
    "## Check of the convergence "
   ]
  },
  {
   "cell_type": "markdown",
   "metadata": {},
   "source": [
    "We check that the algorithms implemented for L-BFGS and Vector-free L-BFGS (VL-BFGS) converges correctly by comparing them to the corresponding algorithm of scipy."
   ]
  },
  {
   "cell_type": "markdown",
   "metadata": {},
   "source": [
    "#### Simulate data"
   ]
  },
  {
   "cell_type": "code",
   "execution_count": 185,
   "metadata": {},
   "outputs": [],
   "source": [
    "# Parameters\n",
    "d = 50\n",
    "n = 1000\n",
    "idx = np.arange(d)\n",
    "lbda = 1. / n ** (0.5)\n",
    "\n",
    "# Ground truth coefficients of the model\n",
    "coefs = (-1) ** idx * np.exp(-idx / 10.)"
   ]
  },
  {
   "cell_type": "code",
   "execution_count": 188,
   "metadata": {},
   "outputs": [],
   "source": [
    "_A, _b = utils.simulate_data(coefs, n, std=1., corr=0.8, log_reg=False)"
   ]
  },
  {
   "cell_type": "markdown",
   "metadata": {},
   "source": [
    "#### Check of the gradient computation"
   ]
  },
  {
   "cell_type": "code",
   "execution_count": 189,
   "metadata": {},
   "outputs": [
    {
     "data": {
      "text/plain": [
       "3.185094006582731e-07"
      ]
     },
     "execution_count": 189,
     "metadata": {},
     "output_type": "execute_result"
    }
   ],
   "source": [
    "check_grad(utils.loss_logreg, utils.grad_logreg, np.random.randn(d), _A, _b, lbda)"
   ]
  },
  {
   "cell_type": "markdown",
   "metadata": {},
   "source": [
    "#### Optimization for linear regression"
   ]
  },
  {
   "cell_type": "code",
   "execution_count": 190,
   "metadata": {},
   "outputs": [],
   "source": [
    "f = utils.loss_linreg\n",
    "f_grad = utils.grad_linreg\n",
    "\n",
    "x_init = np.zeros(d)"
   ]
  },
  {
   "cell_type": "code",
   "execution_count": 191,
   "metadata": {},
   "outputs": [],
   "source": [
    "x_min_scipy, f_min_scipy, _ = fmin_l_bfgs_b(f, x_init, f_grad, args=(_A, _b, lbda), pgtol=1e-30, factr=1e-30, maxiter=100)\n",
    "\n",
    "lbfgs_optimizer = lbfgs.LBFGS(f, f_grad, m=10, vector_free=False, max_iter=100)\n",
    "x_min_lbfgs, f_min_lbfgs, time_lbfgs  = lbfgs_optimizer.fit(x_init, _A, _b, lbda)\n",
    "\n",
    "vlbfgs_optimizer = lbfgs.LBFGS(f, f_grad, m=10, vector_free=True, max_iter=100)\n",
    "x_min_vlbfgs, f_min_vlbfgs, time_vlbfgs = vlbfgs_optimizer.fit(x_init, _A, _b, lbda)"
   ]
  },
  {
   "cell_type": "code",
   "execution_count": 194,
   "metadata": {},
   "outputs": [
    {
     "name": "stdout",
     "output_type": "stream",
     "text": [
      "----- Results: -----\n",
      "Scipy minimum:  0.56451\n",
      "L-BFGS minimum:  0.56451\n",
      "VL-BFGS minimum:  0.56451\n"
     ]
    }
   ],
   "source": [
    "print(\"----- Results: -----\")\n",
    "print(\"Scipy minimum: \", round(f_min_scipy, 5))\n",
    "print(\"L-BFGS minimum: \", round(f_min_lbfgs[-1], 5))\n",
    "print(\"VL-BFGS minimum: \", round(f_min_vlbfgs[-1], 5))"
   ]
  },
  {
   "cell_type": "markdown",
   "metadata": {},
   "source": [
    "## Comparison of efficiency"
   ]
  },
  {
   "cell_type": "code",
   "execution_count": null,
   "metadata": {},
   "outputs": [],
   "source": []
  }
 ],
 "metadata": {
  "kernelspec": {
   "display_name": "Python 3.9.0",
   "language": "python",
   "name": "python3"
  },
  "language_info": {
   "codemirror_mode": {
    "name": "ipython",
    "version": 3
   },
   "file_extension": ".py",
   "mimetype": "text/x-python",
   "name": "python",
   "nbconvert_exporter": "python",
   "pygments_lexer": "ipython3",
   "version": "3.9.0"
  },
  "orig_nbformat": 4,
  "vscode": {
   "interpreter": {
    "hash": "94c862a48bf8eefe8e4c17f1f586aa54027748f6e3c5245bee9aab96d45bbe66"
   }
  }
 },
 "nbformat": 4,
 "nbformat_minor": 2
}
